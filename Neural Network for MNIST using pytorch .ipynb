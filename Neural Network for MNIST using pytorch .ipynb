{
  "nbformat": 4,
  "nbformat_minor": 0,
  "metadata": {
    "colab": {
      "name": "Untitled",
      "version": "0.3.2",
      "provenance": [],
      "collapsed_sections": [],
      "include_colab_link": true
    },
    "kernelspec": {
      "name": "python3",
      "display_name": "Python 3"
    },
    "accelerator": "GPU"
  },
  "cells": [
    {
      "cell_type": "markdown",
      "metadata": {
        "id": "view-in-github",
        "colab_type": "text"
      },
      "source": [
        "<a href=\"https://colab.research.google.com/github/apoorvyadav1111/Machine-Learning-pytorch/blob/master/Neural%20Network%20for%20MNIST%20using%20pytorch%20.ipynb\" target=\"_parent\"><img src=\"https://colab.research.google.com/assets/colab-badge.svg\" alt=\"Open In Colab\"/></a>"
      ]
    },
    {
      "metadata": {
        "id": "RaGFUaJO-Ama",
        "colab_type": "code",
        "outputId": "1b3d18ba-1f09-48b7-e155-01d1af9af056",
        "colab": {
          "base_uri": "https://localhost:8080/",
          "height": 54
        }
      },
      "cell_type": "code",
      "source": [
        "# http://pytorch.org/\n",
        "from os.path import exists\n",
        "from wheel.pep425tags import get_abbr_impl, get_impl_ver, get_abi_tag\n",
        "platform = '{}{}-{}'.format(get_abbr_impl(), get_impl_ver(), get_abi_tag())\n",
        "cuda_output = !ldconfig -p|grep cudart.so|sed -e 's/.*\\.\\([0-9]*\\)\\.\\([0-9]*\\)$/cu\\1\\2/'\n",
        "accelerator = cuda_output[0] if exists('/dev/nvidia0') else 'cpu'\n",
        "\n",
        "!pip install -q http://download.pytorch.org/whl/{accelerator}/torch-0.4.1-{platform}-linux_x86_64.whl torchvision\n",
        "import torch"
      ],
      "execution_count": 1,
      "outputs": [
        {
          "output_type": "stream",
          "text": [
            "tcmalloc: large alloc 1073750016 bytes == 0x57646000 @  0x7f35ad7132a4 0x591a07 0x5b5d56 0x502e9a 0x506859 0x502209 0x502f3d 0x506859 0x504c28 0x502540 0x502f3d 0x506859 0x504c28 0x502540 0x502f3d 0x506859 0x504c28 0x502540 0x502f3d 0x507641 0x502209 0x502f3d 0x506859 0x504c28 0x502540 0x502f3d 0x507641 0x504c28 0x502540 0x502f3d 0x507641\n"
          ],
          "name": "stdout"
        }
      ]
    },
    {
      "metadata": {
        "id": "SeVPJMp_2DbG",
        "colab_type": "text"
      },
      "cell_type": "markdown",
      "source": [
        "## Import libraries"
      ]
    },
    {
      "metadata": {
        "id": "Az-wAvRB-BCj",
        "colab_type": "code",
        "colab": {}
      },
      "cell_type": "code",
      "source": [
        "import numpy as np\n",
        "import matplotlib.pyplot as plt"
      ],
      "execution_count": 0,
      "outputs": []
    },
    {
      "metadata": {
        "id": "8grk8FU8-oCs",
        "colab_type": "code",
        "colab": {}
      },
      "cell_type": "code",
      "source": [
        "from torchvision import datasets, transforms"
      ],
      "execution_count": 0,
      "outputs": []
    },
    {
      "metadata": {
        "id": "y3dK88DF2K-r",
        "colab_type": "text"
      },
      "cell_type": "markdown",
      "source": [
        "## Create a transform and load the data\n",
        "\n",
        "We need to convert the image into a tensor and normalize them."
      ]
    },
    {
      "metadata": {
        "id": "zhtPATkW_m7I",
        "colab_type": "code",
        "outputId": "0fb3c329-d6e3-4ada-ddd4-1a8300c5e67d",
        "colab": {
          "base_uri": "https://localhost:8080/",
          "height": 121
        }
      },
      "cell_type": "code",
      "source": [
        "transform = transforms.Compose([transforms.ToTensor(),\n",
        "                              transforms.Normalize((0.5,), (0.5,)),\n",
        "                              ])\n",
        "trainset = datasets.MNIST('~/.pytorch/MNIST_data/', download = True, train = True, transform = transform)\n",
        "trainloader = torch.utils.data.DataLoader(trainset, batch_size = 64, shuffle = True)"
      ],
      "execution_count": 7,
      "outputs": [
        {
          "output_type": "stream",
          "text": [
            "Downloading http://yann.lecun.com/exdb/mnist/train-images-idx3-ubyte.gz\n",
            "Downloading http://yann.lecun.com/exdb/mnist/train-labels-idx1-ubyte.gz\n",
            "Downloading http://yann.lecun.com/exdb/mnist/t10k-images-idx3-ubyte.gz\n",
            "Downloading http://yann.lecun.com/exdb/mnist/t10k-labels-idx1-ubyte.gz\n",
            "Processing...\n",
            "Done!\n"
          ],
          "name": "stdout"
        }
      ]
    },
    {
      "metadata": {
        "id": "V673NeZt2Yhq",
        "colab_type": "text"
      },
      "cell_type": "markdown",
      "source": [
        "## Checking the dimensions of the data"
      ]
    },
    {
      "metadata": {
        "id": "-XlGYUYfBLjC",
        "colab_type": "code",
        "outputId": "f0a9d5f6-09bd-4e79-b00c-13f6b1464ca2",
        "colab": {
          "base_uri": "https://localhost:8080/",
          "height": 69
        }
      },
      "cell_type": "code",
      "source": [
        "dataiter = iter(trainloader)\n",
        "images, labels = dataiter.next()\n",
        "print(type(images))\n",
        "print(images.shape)\n",
        "print(labels.shape)"
      ],
      "execution_count": 8,
      "outputs": [
        {
          "output_type": "stream",
          "text": [
            "<class 'torch.Tensor'>\n",
            "torch.Size([64, 1, 28, 28])\n",
            "torch.Size([64])\n"
          ],
          "name": "stdout"
        }
      ]
    },
    {
      "metadata": {
        "id": "DbRBV1n12fiW",
        "colab_type": "text"
      },
      "cell_type": "markdown",
      "source": [
        "## Plotting the Image"
      ]
    },
    {
      "metadata": {
        "id": "QOWcRE0EBguv",
        "colab_type": "code",
        "outputId": "57399006-7a0d-4dd6-ce79-19d8555b0085",
        "colab": {
          "base_uri": "https://localhost:8080/",
          "height": 364
        }
      },
      "cell_type": "code",
      "source": [
        "plt.imshow(images[0].squeeze(),cmap='Greys_r')"
      ],
      "execution_count": 9,
      "outputs": [
        {
          "output_type": "execute_result",
          "data": {
            "text/plain": [
              "<matplotlib.image.AxesImage at 0x7fafdc8b6c18>"
            ]
          },
          "metadata": {
            "tags": []
          },
          "execution_count": 9
        },
        {
          "output_type": "display_data",
          "data": {
            "image/png": "[encoded data removed]",
            "text/plain": [
              "<matplotlib.figure.Figure at 0x7fb02bde45f8>"
            ]
          },
          "metadata": {
            "tags": []
          }
        }
      ]
    },
    {
      "metadata": {
        "id": "qJRNJvaI2jYR",
        "colab_type": "text"
      },
      "cell_type": "markdown",
      "source": [
        "## Creating the Model using nn.Module\n",
        "We will create a neural network with two hidden layers. We use ReLU activations for the hidden layers and LogSoftmax for the last layer"
      ]
    },
    {
      "metadata": {
        "id": "Xmc4seNtG6rz",
        "colab_type": "code",
        "colab": {}
      },
      "cell_type": "code",
      "source": [
        "from torch import nn"
      ],
      "execution_count": 0,
      "outputs": []
    },
    {
      "metadata": {
        "id": "eU4jDfYXH6pu",
        "colab_type": "code",
        "colab": {}
      },
      "cell_type": "code",
      "source": [
        "class Network(nn.Module):\n",
        "  def __init__(self):\n",
        "    super().__init__()\n",
        "    \n",
        "    self.fc1 = nn.Linear(784,128)\n",
        "    self.fc2 = nn.Linear(128,64)\n",
        "    self.output = nn.Linear(64,10)\n",
        "    \n",
        "    self.sigmoid = nn.ReLU()\n",
        "    self.softmax = nn.LogSoftmax(dim=1)\n",
        "  \n",
        "  def forward(self, x):\n",
        "    \n",
        "    x = self.sigmoid(self.fc1(x))\n",
        "    x = self.sigmoid(self.fc2(x))\n",
        "    out = self.softmax(self.output(x))\n",
        "    return out    "
      ],
      "execution_count": 0,
      "outputs": []
    },
    {
      "metadata": {
        "id": "l6SLJvXZJi55",
        "colab_type": "code",
        "colab": {}
      },
      "cell_type": "code",
      "source": [
        "model = Network()"
      ],
      "execution_count": 0,
      "outputs": []
    },
    {
      "metadata": {
        "id": "acA1Rwvl28i_",
        "colab_type": "text"
      },
      "cell_type": "markdown",
      "source": [
        "## We can check the model architecture down below"
      ]
    },
    {
      "metadata": {
        "id": "qc0-az16JlgC",
        "colab_type": "code",
        "outputId": "0b9ade74-c4b8-4a31-f90b-ae8f427c41e5",
        "colab": {
          "base_uri": "https://localhost:8080/",
          "height": 139
        }
      },
      "cell_type": "code",
      "source": [
        "model"
      ],
      "execution_count": 32,
      "outputs": [
        {
          "output_type": "execute_result",
          "data": {
            "text/plain": [
              "Network(\n",
              "  (fc1): Linear(in_features=784, out_features=128, bias=True)\n",
              "  (fc2): Linear(in_features=128, out_features=64, bias=True)\n",
              "  (output): Linear(in_features=64, out_features=10, bias=True)\n",
              "  (sigmoid): ReLU()\n",
              "  (softmax): LogSoftmax()\n",
              ")"
            ]
          },
          "metadata": {
            "tags": []
          },
          "execution_count": 32
        }
      ]
    },
    {
      "metadata": {
        "id": "M1fvOcG3v0lX",
        "colab_type": "code",
        "colab": {
          "base_uri": "https://localhost:8080/",
          "height": 34
        },
        "outputId": "f2bd61f2-a969-4fad-cfe9-f15e9ac98f04"
      },
      "cell_type": "code",
      "source": [
        "model.fc1.bias.data.fill_(0)\n",
        "model.fc2.bias.data.fill_(0)\n",
        "model.output.bias.data.fill_(0)"
      ],
      "execution_count": 33,
      "outputs": [
        {
          "output_type": "execute_result",
          "data": {
            "text/plain": [
              "tensor([0., 0., 0., 0., 0., 0., 0., 0., 0., 0.])"
            ]
          },
          "metadata": {
            "tags": []
          },
          "execution_count": 33
        }
      ]
    },
    {
      "metadata": {
        "id": "gzLfPmuT3DPj",
        "colab_type": "text"
      },
      "cell_type": "markdown",
      "source": [
        "## Defining the loss"
      ]
    },
    {
      "metadata": {
        "id": "NprqhaURORRt",
        "colab_type": "code",
        "colab": {}
      },
      "cell_type": "code",
      "source": [
        "criterion = nn.NLLLoss()"
      ],
      "execution_count": 0,
      "outputs": []
    },
    {
      "metadata": {
        "id": "r35W6-HM3GSB",
        "colab_type": "text"
      },
      "cell_type": "markdown",
      "source": [
        "## Defining the optimizer \n",
        "we have a lot of choices here, SGD, Adam, AdaDelta, Adagrad etc"
      ]
    },
    {
      "metadata": {
        "id": "y99RaefbQgD7",
        "colab_type": "code",
        "colab": {}
      },
      "cell_type": "code",
      "source": [
        "from torch import optim\n",
        "optimizer = optim.SGD(model.parameters(), lr = 0.003)"
      ],
      "execution_count": 0,
      "outputs": []
    },
    {
      "metadata": {
        "id": "875rFddq3VWb",
        "colab_type": "text"
      },
      "cell_type": "markdown",
      "source": [
        "## Training Loop"
      ]
    },
    {
      "metadata": {
        "id": "xc82Y0gpQpyz",
        "colab_type": "code",
        "outputId": "884529cc-2a81-4f1f-c259-763304f0e428",
        "colab": {
          "base_uri": "https://localhost:8080/",
          "height": 191
        }
      },
      "cell_type": "code",
      "source": [
        "epochs = 10\n",
        "for e in range(epochs):\n",
        "  running_loss = 0\n",
        "  for images, labels in trainloader:\n",
        "    \n",
        "    images = images.view(images.shape[0],-1)\n",
        "  \n",
        "    optimizer.zero_grad()\n",
        "    output = model(images)\n",
        "    loss = criterion(output, labels)\n",
        "    loss.backward()\n",
        "    optimizer.step()\n",
        "  \n",
        "    running_loss += loss.item()\n",
        "  else:\n",
        "    print( f\"Training Loss: {running_loss/len(trainloader)}\")"
      ],
      "execution_count": 36,
      "outputs": [
        {
          "output_type": "stream",
          "text": [
            "Training Loss: 1.9595477245509751\n",
            "Training Loss: 0.9091873150835159\n",
            "Training Loss: 0.5405891023592145\n",
            "Training Loss: 0.43681477383573425\n",
            "Training Loss: 0.38880730711066647\n",
            "Training Loss: 0.36129304795249945\n",
            "Training Loss: 0.3425475183262754\n",
            "Training Loss: 0.3280834875889678\n",
            "Training Loss: 0.3163398734287921\n",
            "Training Loss: 0.3064454868594721\n"
          ],
          "name": "stdout"
        }
      ]
    },
    {
      "metadata": {
        "id": "_wL7tTsT3a7h",
        "colab_type": "text"
      },
      "cell_type": "markdown",
      "source": [
        "## Visualizing the output predictions"
      ]
    },
    {
      "metadata": {
        "id": "LLSiilKmvL9S",
        "colab_type": "code",
        "colab": {
          "base_uri": "https://localhost:8080/",
          "height": 231
        },
        "outputId": "0599209e-df3c-42d5-e56b-7910f855180c"
      },
      "cell_type": "code",
      "source": [
        "%matplotlib inline\n",
        "images, labels = next(iter(trainloader))\n",
        "\n",
        "img = images[0].view(1,784)\n",
        "\n",
        "with torch.no_grad():\n",
        "  logps = model(img)\n",
        "  \n",
        "ps = torch.exp(logps)\n",
        "\n",
        "ps = ps.data.numpy().squeeze()\n",
        "\n",
        "fig, (ax1,ax2) = plt.subplots(figsize=(6,9),ncols =2)\n",
        "ax1.imshow(img.resize_(1,28,28).numpy().squeeze())\n",
        "ax1.axis('off')\n",
        "ax2.barh(np.arange(10),ps)\n",
        "ax2.set_aspect(0.1)\n",
        "ax2.set_yticks(np.arange(10))\n",
        "ax2.set_yticklabels(np.arange(10))\n",
        "ax2.set_title('Class Probability')\n",
        "ax2.set_xlim(0, 1.1)\n"
      ],
      "execution_count": 44,
      "outputs": [
        {
          "output_type": "execute_result",
          "data": {
            "text/plain": [
              "(0, 1.1)"
            ]
          },
          "metadata": {
            "tags": []
          },
          "execution_count": 44
        },
        {
          "output_type": "display_data",
          "data": {
            "image/png": "[encoded data removed]",
            "text/plain": [
              "<matplotlib.figure.Figure at 0x7fafd85c2898>"
            ]
          },
          "metadata": {
            "tags": []
          }
        }
      ]
    },
    {
      "metadata": {
        "id": "a12DZ6ES3k5p",
        "colab_type": "code",
        "colab": {}
      },
      "cell_type": "code",
      "source": [
        ""
      ],
      "execution_count": 0,
      "outputs": []
    },
    {
      "metadata": {
        "id": "NEbbtMp8zoCA",
        "colab_type": "code",
        "colab": {}
      },
      "cell_type": "code",
      "source": [
        ""
      ],
      "execution_count": 0,
      "outputs": []
    }
  ]
}